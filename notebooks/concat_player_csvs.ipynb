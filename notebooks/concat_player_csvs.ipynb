{
 "cells": [
  {
   "cell_type": "code",
   "execution_count": null,
   "metadata": {},
   "outputs": [],
   "source": [
    "\n"
   ]
  },
  {
   "cell_type": "code",
   "execution_count": 22,
   "metadata": {},
   "outputs": [],
   "source": []
  },
  {
   "cell_type": "code",
   "execution_count": 83,
   "metadata": {},
   "outputs": [],
   "source": [
    "import pandas as pd\n",
    "import os\n",
    "\n",
    "#Change the year in the path to get whatever year you want\n",
    "\n",
    "path = '/Users/petter/Documents/FPL/FPL_scraper/data/2017-18/players'\n",
    "    \n",
    "df_list = []\n",
    "name_list = []\n",
    "for player_folder in os.listdir(path):\n",
    "    player_name = player_folder\n",
    "    name_list.append(player_name)\n",
    "    for file in os.listdir(path + '/' + player_name):\n",
    "        df = pd.read_csv(path + '/' + player_name + '/gw.csv', engine='python')\n",
    "        df['name'] = player_name\n",
    "        df['gw'] = df.index\n",
    "        df_list.append(df)\n",
    "\n",
    "final_df = pd.concat(df_list)\n"
   ]
  },
  {
   "cell_type": "code",
   "execution_count": 84,
   "metadata": {},
   "outputs": [],
   "source": [
    "final_df.to_csv('/Users/petter/Documents/FPL/data/player_data/gw_17.csv', index=False)\n"
   ]
  },
  {
   "cell_type": "code",
   "execution_count": null,
   "metadata": {},
   "outputs": [],
   "source": []
  },
  {
   "cell_type": "code",
   "execution_count": null,
   "metadata": {},
   "outputs": [],
   "source": []
  },
  {
   "cell_type": "code",
   "execution_count": null,
   "metadata": {},
   "outputs": [],
   "source": []
  }
 ],
 "metadata": {
  "kernelspec": {
   "display_name": "Python 3",
   "language": "python",
   "name": "python3"
  },
  "language_info": {
   "codemirror_mode": {
    "name": "ipython",
    "version": 3
   },
   "file_extension": ".py",
   "mimetype": "text/x-python",
   "name": "python",
   "nbconvert_exporter": "python",
   "pygments_lexer": "ipython3",
   "version": "3.6.5"
  }
 },
 "nbformat": 4,
 "nbformat_minor": 2
}
